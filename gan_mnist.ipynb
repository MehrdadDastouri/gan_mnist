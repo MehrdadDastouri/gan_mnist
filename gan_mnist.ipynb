{
  "nbformat": 4,
  "nbformat_minor": 0,
  "metadata": {
    "colab": {
      "provenance": [],
      "gpuType": "T4",
      "authorship_tag": "ABX9TyM4QbgbC4m1LPzS4KF5bU1o",
      "include_colab_link": true
    },
    "kernelspec": {
      "name": "python3",
      "display_name": "Python 3"
    },
    "language_info": {
      "name": "python"
    },
    "accelerator": "GPU"
  },
  "cells": [
    {
      "cell_type": "markdown",
      "metadata": {
        "id": "view-in-github",
        "colab_type": "text"
      },
      "source": [
        "<a href=\"https://colab.research.google.com/github/MehrdadDastouri/gan_mnist/blob/main/gan_mnist.ipynb\" target=\"_parent\"><img src=\"https://colab.research.google.com/assets/colab-badge.svg\" alt=\"Open In Colab\"/></a>"
      ]
    },
    {
      "cell_type": "code",
      "execution_count": null,
      "metadata": {
        "colab": {
          "base_uri": "https://localhost:8080/"
        },
        "id": "Mxu6f9hrbwj4",
        "outputId": "2d2dc645-faa0-46f0-b2b7-8ee991ce619e"
      },
      "outputs": [
        {
          "output_type": "stream",
          "name": "stdout",
          "text": [
            "Using device: cuda\n",
            "Downloading http://yann.lecun.com/exdb/mnist/train-images-idx3-ubyte.gz\n",
            "Failed to download (trying next):\n",
            "HTTP Error 403: Forbidden\n",
            "\n",
            "Downloading https://ossci-datasets.s3.amazonaws.com/mnist/train-images-idx3-ubyte.gz\n",
            "Downloading https://ossci-datasets.s3.amazonaws.com/mnist/train-images-idx3-ubyte.gz to ./data/MNIST/raw/train-images-idx3-ubyte.gz\n"
          ]
        },
        {
          "output_type": "stream",
          "name": "stderr",
          "text": [
            "100%|██████████| 9.91M/9.91M [00:00<00:00, 12.7MB/s]\n"
          ]
        },
        {
          "output_type": "stream",
          "name": "stdout",
          "text": [
            "Extracting ./data/MNIST/raw/train-images-idx3-ubyte.gz to ./data/MNIST/raw\n",
            "\n",
            "Downloading http://yann.lecun.com/exdb/mnist/train-labels-idx1-ubyte.gz\n",
            "Failed to download (trying next):\n",
            "HTTP Error 403: Forbidden\n",
            "\n",
            "Downloading https://ossci-datasets.s3.amazonaws.com/mnist/train-labels-idx1-ubyte.gz\n",
            "Downloading https://ossci-datasets.s3.amazonaws.com/mnist/train-labels-idx1-ubyte.gz to ./data/MNIST/raw/train-labels-idx1-ubyte.gz\n"
          ]
        },
        {
          "output_type": "stream",
          "name": "stderr",
          "text": [
            "100%|██████████| 28.9k/28.9k [00:00<00:00, 345kB/s]\n"
          ]
        },
        {
          "output_type": "stream",
          "name": "stdout",
          "text": [
            "Extracting ./data/MNIST/raw/train-labels-idx1-ubyte.gz to ./data/MNIST/raw\n",
            "\n",
            "Downloading http://yann.lecun.com/exdb/mnist/t10k-images-idx3-ubyte.gz\n",
            "Failed to download (trying next):\n",
            "HTTP Error 403: Forbidden\n",
            "\n",
            "Downloading https://ossci-datasets.s3.amazonaws.com/mnist/t10k-images-idx3-ubyte.gz\n",
            "Downloading https://ossci-datasets.s3.amazonaws.com/mnist/t10k-images-idx3-ubyte.gz to ./data/MNIST/raw/t10k-images-idx3-ubyte.gz\n"
          ]
        },
        {
          "output_type": "stream",
          "name": "stderr",
          "text": [
            "100%|██████████| 1.65M/1.65M [00:00<00:00, 3.18MB/s]\n"
          ]
        },
        {
          "output_type": "stream",
          "name": "stdout",
          "text": [
            "Extracting ./data/MNIST/raw/t10k-images-idx3-ubyte.gz to ./data/MNIST/raw\n",
            "\n",
            "Downloading http://yann.lecun.com/exdb/mnist/t10k-labels-idx1-ubyte.gz\n",
            "Failed to download (trying next):\n",
            "HTTP Error 403: Forbidden\n",
            "\n",
            "Downloading https://ossci-datasets.s3.amazonaws.com/mnist/t10k-labels-idx1-ubyte.gz\n",
            "Downloading https://ossci-datasets.s3.amazonaws.com/mnist/t10k-labels-idx1-ubyte.gz to ./data/MNIST/raw/t10k-labels-idx1-ubyte.gz\n"
          ]
        },
        {
          "output_type": "stream",
          "name": "stderr",
          "text": [
            "100%|██████████| 4.54k/4.54k [00:00<00:00, 3.18MB/s]\n"
          ]
        },
        {
          "output_type": "stream",
          "name": "stdout",
          "text": [
            "Extracting ./data/MNIST/raw/t10k-labels-idx1-ubyte.gz to ./data/MNIST/raw\n",
            "\n",
            "Epoch [1/100], D Loss: 0.2517, G Loss: 3.7208\n",
            "Epoch [2/100], D Loss: 0.0788, G Loss: 5.0290\n",
            "Epoch [3/100], D Loss: 0.2252, G Loss: 4.6909\n",
            "Epoch [4/100], D Loss: 0.2924, G Loss: 4.1068\n",
            "Epoch [5/100], D Loss: 0.2535, G Loss: 4.1288\n",
            "Epoch [6/100], D Loss: 0.1666, G Loss: 4.7572\n",
            "Epoch [7/100], D Loss: 0.2411, G Loss: 4.8936\n",
            "Epoch [8/100], D Loss: 0.2362, G Loss: 4.6106\n"
          ]
        }
      ],
      "source": [
        "# Import necessary libraries\n",
        "import torch\n",
        "import torch.nn as nn\n",
        "import torch.optim as optim\n",
        "from torchvision import datasets, transforms\n",
        "from torch.utils.data import DataLoader\n",
        "import matplotlib.pyplot as plt\n",
        "\n",
        "# Device configuration\n",
        "device = torch.device(\"cuda\" if torch.cuda.is_available() else \"cpu\")\n",
        "print(f\"Using device: {device}\")\n",
        "\n",
        "# Hyperparameters\n",
        "latent_size = 64\n",
        "hidden_size = 256\n",
        "image_size = 28 * 28\n",
        "batch_size = 128\n",
        "learning_rate = 0.0002\n",
        "epochs = 100\n",
        "\n",
        "# Data preparation\n",
        "transform = transforms.Compose([\n",
        "    transforms.ToTensor(),\n",
        "    transforms.Normalize((0.5,), (0.5,))  # Normalize to [-1, 1]\n",
        "])\n",
        "\n",
        "train_dataset = datasets.MNIST(root='./data', train=True, transform=transform, download=True)\n",
        "train_loader = DataLoader(dataset=train_dataset, batch_size=batch_size, shuffle=True)\n",
        "\n",
        "# Define the Generator\n",
        "class Generator(nn.Module):\n",
        "    def __init__(self, latent_size, hidden_size, image_size):\n",
        "        super(Generator, self).__init__()\n",
        "        self.net = nn.Sequential(\n",
        "            nn.Linear(latent_size, hidden_size),\n",
        "            nn.ReLU(),\n",
        "            nn.Linear(hidden_size, hidden_size),\n",
        "            nn.ReLU(),\n",
        "            nn.Linear(hidden_size, image_size),\n",
        "            nn.Tanh()  # Output normalized to [-1, 1]\n",
        "        )\n",
        "\n",
        "    def forward(self, z):\n",
        "        return self.net(z)\n",
        "\n",
        "# Define the Discriminator\n",
        "class Discriminator(nn.Module):\n",
        "    def __init__(self, image_size, hidden_size):\n",
        "        super(Discriminator, self).__init__()\n",
        "        self.net = nn.Sequential(\n",
        "            nn.Linear(image_size, hidden_size),\n",
        "            nn.LeakyReLU(0.2),\n",
        "            nn.Linear(hidden_size, hidden_size),\n",
        "            nn.LeakyReLU(0.2),\n",
        "            nn.Linear(hidden_size, 1),\n",
        "            nn.Sigmoid()  # Output probability\n",
        "        )\n",
        "\n",
        "    def forward(self, x):\n",
        "        return self.net(x)\n",
        "\n",
        "# Initialize the Generator and Discriminator\n",
        "generator = Generator(latent_size, hidden_size, image_size).to(device)\n",
        "discriminator = Discriminator(image_size, hidden_size).to(device)\n",
        "\n",
        "# Loss function and optimizers\n",
        "criterion = nn.BCELoss()  # Binary Cross-Entropy Loss\n",
        "optimizer_g = optim.Adam(generator.parameters(), lr=learning_rate)\n",
        "optimizer_d = optim.Adam(discriminator.parameters(), lr=learning_rate)\n",
        "\n",
        "# Function to denormalize images\n",
        "def denormalize(img):\n",
        "    return (img + 1) / 2\n",
        "\n",
        "# Training the GAN\n",
        "fixed_noise = torch.randn(16, latent_size).to(device)  # Fixed noise for visualization\n",
        "d_losses, g_losses = [], []\n",
        "\n",
        "for epoch in range(epochs):\n",
        "    d_loss_epoch, g_loss_epoch = 0, 0\n",
        "\n",
        "    for real_images, _ in train_loader:\n",
        "        real_images = real_images.view(-1, image_size).to(device)\n",
        "\n",
        "        # Create labels\n",
        "        real_labels = torch.ones(real_images.size(0), 1).to(device)\n",
        "        fake_labels = torch.zeros(real_images.size(0), 1).to(device)\n",
        "\n",
        "        # Train the Discriminator\n",
        "        outputs = discriminator(real_images)\n",
        "        d_loss_real = criterion(outputs, real_labels)\n",
        "\n",
        "        noise = torch.randn(real_images.size(0), latent_size).to(device)\n",
        "        fake_images = generator(noise)\n",
        "        outputs = discriminator(fake_images.detach())  # Detach to avoid training the generator\n",
        "        d_loss_fake = criterion(outputs, fake_labels)\n",
        "\n",
        "        d_loss = d_loss_real + d_loss_fake\n",
        "        optimizer_d.zero_grad()\n",
        "        d_loss.backward()\n",
        "        optimizer_d.step()\n",
        "\n",
        "        # Train the Generator\n",
        "        noise = torch.randn(real_images.size(0), latent_size).to(device)\n",
        "        fake_images = generator(noise)\n",
        "        outputs = discriminator(fake_images)\n",
        "        g_loss = criterion(outputs, real_labels)  # Try to trick the discriminator\n",
        "\n",
        "        optimizer_g.zero_grad()\n",
        "        g_loss.backward()\n",
        "        optimizer_g.step()\n",
        "\n",
        "        d_loss_epoch += d_loss.item()\n",
        "        g_loss_epoch += g_loss.item()\n",
        "\n",
        "    d_losses.append(d_loss_epoch / len(train_loader))\n",
        "    g_losses.append(g_loss_epoch / len(train_loader))\n",
        "\n",
        "    print(f\"Epoch [{epoch+1}/{epochs}], D Loss: {d_losses[-1]:.4f}, G Loss: {g_losses[-1]:.4f}\")\n",
        "\n",
        "    # Visualize generated images\n",
        "    if (epoch + 1) % 10 == 0:\n",
        "        with torch.no_grad():\n",
        "            fake_images = generator(fixed_noise).view(-1, 1, 28, 28)\n",
        "            fake_images = denormalize(fake_images).cpu()\n",
        "\n",
        "        plt.figure(figsize=(8, 8))\n",
        "        for i in range(16):\n",
        "            plt.subplot(4, 4, i + 1)\n",
        "            plt.imshow(fake_images[i][0], cmap=\"gray\")\n",
        "            plt.axis(\"off\")\n",
        "        plt.suptitle(f\"Generated Images at Epoch {epoch+1}\")\n",
        "        plt.show()\n",
        "\n",
        "# Plot losses\n",
        "plt.figure(figsize=(10, 5))\n",
        "plt.plot(d_losses, label=\"Discriminator Loss\")\n",
        "plt.plot(g_losses, label=\"Generator Loss\")\n",
        "plt.xlabel(\"Epochs\")\n",
        "plt.ylabel(\"Loss\")\n",
        "plt.title(\"Training Losses\")\n",
        "plt.legend()\n",
        "plt.show()"
      ]
    }
  ]
}